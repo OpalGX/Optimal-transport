{
 "cells": [
  {
   "cell_type": "markdown",
   "metadata": {},
   "source": [
    "We will use the following steps to solve optimal transport numerically\n",
    "* Create discretized distribution\n",
    "* Set up optimization problem\n",
    "* Solve optimal transport\n",
    "* Plot time evolution\n",
    "\n",
    "\n",
    "Note: The module cvxpy may not work for some version of Jupetor. But this should work in Spyder.\n"
   ]
  },
  {
   "cell_type": "code",
   "execution_count": 15,
   "metadata": {},
   "outputs": [
    {
     "ename": "ModuleNotFoundError",
     "evalue": "No module named 'cvxpy'",
     "output_type": "error",
     "traceback": [
      "\u001b[0;31m---------------------------------------------------------------------------\u001b[0m",
      "\u001b[0;31mModuleNotFoundError\u001b[0m                       Traceback (most recent call last)",
      "\u001b[0;32m<ipython-input-15-55b93acdf624>\u001b[0m in \u001b[0;36m<module>\u001b[0;34m\u001b[0m\n\u001b[1;32m      9\u001b[0m \u001b[0;32mimport\u001b[0m \u001b[0mnumpy\u001b[0m \u001b[0;32mas\u001b[0m \u001b[0mnp\u001b[0m\u001b[0;34m\u001b[0m\u001b[0;34m\u001b[0m\u001b[0m\n\u001b[1;32m     10\u001b[0m \u001b[0;32mimport\u001b[0m \u001b[0mmatplotlib\u001b[0m\u001b[0;34m.\u001b[0m\u001b[0mpyplot\u001b[0m \u001b[0;32mas\u001b[0m \u001b[0mplt\u001b[0m\u001b[0;34m\u001b[0m\u001b[0;34m\u001b[0m\u001b[0m\n\u001b[0;32m---> 11\u001b[0;31m \u001b[0;32mimport\u001b[0m \u001b[0mcvxpy\u001b[0m \u001b[0;32mas\u001b[0m \u001b[0mcp\u001b[0m\u001b[0;34m\u001b[0m\u001b[0;34m\u001b[0m\u001b[0m\n\u001b[0m\u001b[1;32m     12\u001b[0m \u001b[0;34m\u001b[0m\u001b[0m\n\u001b[1;32m     13\u001b[0m \u001b[0;34m\u001b[0m\u001b[0m\n",
      "\u001b[0;31mModuleNotFoundError\u001b[0m: No module named 'cvxpy'"
     ]
    }
   ],
   "source": [
    "#!/usr/bin/env python3\n",
    "# -*- coding: utf-8 -*-\n",
    "\"\"\"\n",
    "Created on Wed Mar 11 10:30:49 2020\n",
    "\n",
    "@author: s1998345\n",
    "\"\"\"\n",
    "import pylab \n",
    "\n",
    "import numpy as np\n",
    "import matplotlib.pyplot as plt\n",
    "import cvxpy as cp\n",
    "\n",
    "\n",
    "n=10\n",
    "#gauss = lambda q,a,c: a*np.random.randn(2, q) + np.transpose(np.tile(c, (q,1)))\n",
    "#X = np.random.randn(2,n)*.3\n",
    "#Y = np.hstack((gauss(int(m/2),.5,[0,1.6]),np.hstack((gauss(int(m/4),.3,[-1,-1]),gauss(int(m/4),.3,[1,-1])))))\n",
    "a = np.ones((n, 1))\n",
    "b = np.ones((n, 1))\n",
    "X = np.array(np.linspace(0,1, num=n)).reshape((n, 1))\n",
    "Y = np.array(np.linspace(1,2, num=n)).reshape((1, n))\n",
    "print(Y)\n",
    "\n",
    "#calculate distance for h(s) = s^2\n",
    "def distmat1(x,y):\n",
    "    return x**2 + y**2 - 2*x.dot(y)\n",
    "C1 = distmat1(X,Y)\n",
    "\n",
    "#calculate distance for h(s) = abs(s)^0.5\n",
    "\n",
    "def distmat2(x,y):\n",
    "    return abs(x - y)**0.5\n",
    "C2 = distmat2(X,Y)\n",
    "\n",
    "\n",
    "#set up optimization problem\n",
    "P = cp.Variable((n,n))\n",
    "u = np.ones((n,1))\n",
    "v = np.ones((n,1))\n",
    "U = [0 <= P, cp.matmul(P,u)==a, cp.matmul(P.T,v)==b]\n",
    "\n",
    "objective = cp.Minimize( cp.sum(cp.multiply(P,C1)) )\n",
    "prob = cp.Problem(objective, U)\n",
    "result = prob.solve()\n",
    "\n",
    "plt.figure(figsize = (5,5))\n",
    "plt.imshow(P.value)\n",
    "\n",
    "\n",
    "objective = cp.Minimize( cp.sum(cp.multiply(P,C2)) )\n",
    "prob = cp.Problem(objective, U)\n",
    "result = prob.solve()\n",
    "\n",
    "plt.figure(figsize = (5,5))\n",
    "plt.imshow(P.value)\n",
    "\n",
    "\n"
   ]
  },
  {
   "cell_type": "markdown",
   "metadata": {},
   "source": [
    "The image attached showed the transportation plan from X to Y under two costs. \n",
    "\n",
    "For $C_1$ where $ h(s)=s^2$, nly the diagonal grids are highlighted, this means that the first grid in X will be transported to first grid in Y, and second grid in X to second grid of Y and so on. This is equivalent to the theoretial optimal solution $T(x) = x+1$.\n",
    "\n",
    "The image attached showed the transportation plan from X to Y under two costs. \n",
    "\n",
    "For $C_2$ where $h(s)=abs(s)^{\\frac{1}{2}}$, the plots shows that first grid in X will be transported to the last grid in Y, and second grid in X to second last grid of Y and so on. This is equivalent to the theoretial optimal solution $T(x) = 2-x$."
   ]
  }
 ],
 "metadata": {
  "kernelspec": {
   "display_name": "Python 3",
   "language": "python",
   "name": "python3"
  },
  "language_info": {
   "codemirror_mode": {
    "name": "ipython",
    "version": 3
   },
   "file_extension": ".py",
   "mimetype": "text/x-python",
   "name": "python",
   "nbconvert_exporter": "python",
   "pygments_lexer": "ipython3",
   "version": "3.7.4"
  }
 },
 "nbformat": 4,
 "nbformat_minor": 2
}
